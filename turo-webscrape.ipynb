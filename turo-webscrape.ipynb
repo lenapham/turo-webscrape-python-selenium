{
 "cells": [
  {
   "cell_type": "markdown",
   "id": "3b485e00",
   "metadata": {},
   "source": [
    "# WebScrape Turo\n",
    "\n",
    "Business Problem: A client has purchase a new car for his fleet to be passively managed Maimi, Florida. He would like to see how his car is doing within the 6 months it's been on the market and what his competitors may look like.\n",
    "\n",
    "\n",
    "READ ME:\n",
    "Google Chrome and Chromedriver will need to downloaded. The verison of Chromedriver must match in order for Selenium to run. For this project, I will be using this verison:\n",
    "    Google Chrome Version 100.0.4896.75 (Official Build) (x86_64)\n",
    "    Chromedriver Verison ChromeDriver 100.0.4896.60\n",
    "    Python 3\n",
    "\n"
   ]
  },
  {
   "cell_type": "code",
   "execution_count": null,
   "id": "12fd4e12",
   "metadata": {},
   "outputs": [],
   "source": [
    "# Install selenium to webscrape\n",
    "!pip install selenium"
   ]
  },
  {
   "cell_type": "code",
   "execution_count": null,
   "id": "515b52c1",
   "metadata": {},
   "outputs": [],
   "source": [
    "# Libraries needed for basic web-scraping\n",
    "import urllib # package required to interact with live webpage\n",
    "import pandas as pd # will use to store the data from the webpage"
   ]
  },
  {
   "cell_type": "code",
   "execution_count": null,
   "id": "5fe6461d",
   "metadata": {},
   "outputs": [],
   "source": [
    "# Url page that you want to webscrape (selenium)\n",
    "urlpage = 'https://turo.com/us/en/search?defaultZoomLevel=11&delivery=true&deliveryLocationType=airport&endDate=04%2F12%2F2022&endTime=10%3A00&isMapSearch=false&itemsPerPage=200&latitude=39.49959&location=RNO%20-%20Reno-Tahoe%20International%20Airport&locationType=AIRPORT&longitude=-119.7681&placeId=ChIJF0m8rXA_mYARQFmvIP8eQBA&sortType=RELEVANCE&startDate=04%2F08%2F2022&startTime=10%3A00&useDefaultMaximumDistance=true'\n",
    "\n",
    "# Run Chrome webdriver from executable path from computer\n",
    "# Make sure Chromedriver matches googlechrome verison \n",
    "driver = webdriver.Chrome(executable_path=\"/Users/lenapham/Desktop/chromedriver\")\n"
   ]
  },
  {
   "cell_type": "code",
   "execution_count": null,
   "id": "8b5b3db9",
   "metadata": {},
   "outputs": [],
   "source": [
    "# Creating forloop to filter search page\n",
    "\n",
    "# Get web page\n",
    "driver.get(urlpage)\n",
    "\n",
    "# Dictionary of final cars\n",
    "final = {}\n",
    "\n",
    "\n",
    "# Create wait time\n",
    "search_grid = WebDriverWait(driver,timeout=500).until(lambda d: d.find_element(By.CSS_SELECTOR, '.schumacherGrid .ReactVirtualized__Grid'))\n",
    "\n",
    "# Get ht of window?\n",
    "window_ht = 0\n",
    "\n",
    "\n",
    "# Creating forloop to pull webpage, go through every car on the list and collect the desired information\n",
    "cont_search = True\n",
    "while cont_search:\n",
    "    car_list = search_grid.find_elements(By.CSS_SELECTOR, '.searchResult')\n",
    "    for car in car_list:\n",
    "        car_dict = {}\n",
    "        # Create columns for name, price/day, and unique url\n",
    "        car_dict['name'] = car.find_element(By.CSS_SELECTOR,'.css-1xhwfei-StyledText').text\n",
    "        car_dict['price/day'] = car.find_element(By.CSS_SELECTOR, '.css-g36krj-StyledText').text\n",
    "        car_dict['url'] = car.find_element(By.CSS_SELECTOR, 'a').get_attribute(\"href\")\n",
    "        # Store the ID of the original window\n",
    "        original_window = driver.current_window_handle\n",
    "        # Opens a new tab & switches to new tab\n",
    "        driver.switch_to.new_window('tab')\n",
    "        # Open tab of each car url\n",
    "        driver.get(car_dict['url'])\n",
    "        \n",
    "        car_details = driver.find_element(By.CSS_SELECTOR,'.vehicleDetails-basicBadges').text\n",
    "        # From each of those url pull information on mpg, doors, seats, and fuel type \n",
    "        mpg = car_details.find('MPG')\n",
    "        if mpg > 0:\n",
    "            car_dict['mpg'] = car_details[mpg-3:mpg-1]\n",
    "\n",
    "        doors = car_details.find('door')\n",
    "        if doors > 0:\n",
    "            car_dict['doors'] = car_details[doors-2:doors-1]\n",
    "\n",
    "        seats = car_details.find('seats')\n",
    "        if seats > 0:\n",
    "            car_dict['seats'] = car_details[seats-2:seats-1]\n",
    "\n",
    "        fuel = re.search('(Gas)|(Electric)|(Hybrid)',car_details)\n",
    "        if fuel is not None:\n",
    "            car_dict['fuel_type'] = fuel.group()\n",
    "        # Close the tab \n",
    "        driver.close()\n",
    "        #Switch back to the orginial tab and pick another car \n",
    "        driver.switch_to.window(original_window)\n",
    "        print(car_dict)\n",
    "        final[car_dict['url']] = car_dict\n",
    "    driver.execute_script('arguments[0].scrollIntoView()',car_list[-1])\n",
    "    sleep(4)\n",
    "    end_car_list = driver.find_element(By.CSS_SELECTOR,'.searchResultsEmptyState')\n",
    "    cont_search = end_car_list.rect[\"y\"]> window_ht\n",
    "    window_ht = end_car_list.rect['y']\n",
    "    #print(window_ht, end_car_list.rect['y'], cont_search)\n",
    "\n",
    "print(final.values())\n",
    "\n"
   ]
  },
  {
   "cell_type": "code",
   "execution_count": null,
   "id": "178cfeed",
   "metadata": {},
   "outputs": [],
   "source": [
    "# Puts the dictionary into pandas dataframe\n",
    "df = pd.DataFrame(final.values())\n",
    "print(df)"
   ]
  },
  {
   "cell_type": "code",
   "execution_count": null,
   "id": "5d3ca163",
   "metadata": {},
   "outputs": [],
   "source": [
    "# Check types, change types to str for cleaning\n",
    "df.dtypes\n",
    "df = df.astype(str)\n",
    "\n",
    "#(\\d+) Extracting a numerial digit more than one character '\\w+@\\w'\n",
    "df['price/day'] = df['price/day'].str.extract('(\\d+)')\n",
    "print(df)"
   ]
  },
  {
   "cell_type": "code",
   "execution_count": null,
   "id": "4e942e28",
   "metadata": {},
   "outputs": [],
   "source": [
    "# New column for vehicle_type extracted from url\n",
    "df['vehicle_type'] = df['url'].str.extract('(truck|car|minivan|suv|van)-rental')\n",
    "\n",
    "# New column for competitors from vehicle names\n",
    "df['competitors'] = df['name'].str.extract('(Jeep Wrangler|Audi Q7|Honda Civic|BMW X5|Honda Accord|)')\n",
    "\n",
    "# New column for year model of vehicle\n",
    "df['year'] = df['name'].str.extract('(2005|2006|2007|2008|2009|2010|2011|2012|2013|2014|2015|2016|2017|2018|2019|2020|2021|2022)')\n",
    "\n",
    "df.head(1000)\n"
   ]
  },
  {
   "cell_type": "code",
   "execution_count": null,
   "id": "8e4e7aec",
   "metadata": {},
   "outputs": [],
   "source": [
    "# Extract year from the end of name \n",
    "df['name'] = df['name'].str.slice(stop=-5)\n",
    "print(df)"
   ]
  },
  {
   "cell_type": "code",
   "execution_count": null,
   "id": "f79b6788",
   "metadata": {},
   "outputs": [],
   "source": [
    "# Save df into a CSV file & export \n",
    "newdf = df.to_csv('Turo_April.csv')\n",
    "print(newdf)"
   ]
  },
  {
   "cell_type": "code",
   "execution_count": null,
   "id": "784f764d",
   "metadata": {},
   "outputs": [],
   "source": []
  }
 ],
 "metadata": {
  "kernelspec": {
   "display_name": "Python 3 (ipykernel)",
   "language": "python",
   "name": "python3"
  },
  "language_info": {
   "codemirror_mode": {
    "name": "ipython",
    "version": 3
   },
   "file_extension": ".py",
   "mimetype": "text/x-python",
   "name": "python",
   "nbconvert_exporter": "python",
   "pygments_lexer": "ipython3",
   "version": "3.9.7"
  }
 },
 "nbformat": 4,
 "nbformat_minor": 5
}
